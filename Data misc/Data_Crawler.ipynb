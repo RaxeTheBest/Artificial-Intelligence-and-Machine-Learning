{
 "cells": [
  {
   "cell_type": "code",
   "execution_count": 4,
   "id": "91b49b8e-d672-4d5b-9982-bc4db5f8ea3e",
   "metadata": {},
   "outputs": [],
   "source": [
    "#################################################\n",
    "########## Stock prices data crawler ############\n",
    "#################################################\n",
    "########## Written by Renaud Axel Eba ###########\n",
    "##########       2022/05/10           ###########\n",
    "#################################################\n",
    "\n",
    "\n",
    "import datetime           \n",
    "import time                \n",
    "import pandas as pd       \n",
    "\n",
    "class CrawlStockPrices(object):\n",
    "    def __init__(self):###Constructor of CrawlStockPrices class\n",
    "        self.base_url = \"https://query1.finance.yahoo.com/v7/finance/download/{ticker}?period1={start_time}&period2={end_time}&interval={interval}&events=history&includeAdjustedClose=true\"\n",
    "        self.interval = \"1d\"\n",
    "\n",
    "    def __build_url(self, ticker, period_start, period_end):###building the url request with the good parameters passed on\n",
    "        return self.base_url.format(ticker=ticker, start_time=period_start, end_time=period_end, interval=self.interval)\n",
    "\n",
    "    def get_ticker_data(self, ticker, period_start, period_end):\n",
    "        ###In this function, i am passing the ticker value, the start and end time periods of our dataset\n",
    "        epoch_start = int(time.mktime(period_start.timetuple()))\n",
    "        ###Converts the date type into integer type as expected by Yahoo Finance\n",
    "        epoch_end = int(time.mktime(period_end.timetuple()))\n",
    "        return pd.read_csv(self.__build_url(ticker, epoch_start, epoch_end))\n",
    "\n",
    "if __name__ == '__main__':###Main program to be executed\n",
    "    dh = CrawlStockPrices()\n",
    "    ### AAPL --> Apple Inc. (IT sector)\n",
    "    ### SMSN.IL --> Samsung Electronics Limited (IT sector)\n",
    "    ### TSLA --> Tesla Inc.\n",
    "    ### BAC --> Bank Of America Corporation (Financial sector)\n",
    "    ### JPM --> JPMorgan Chase & Co\n",
    "    ### BCS --> Barclays PLC\n",
    "    \n",
    "    tickers_list=['TSLA','AAPL','BAC','JPM','BCS','NVDA']\n",
    "    ### Taking the training dataset\n",
    "    for i in range (len(tickers_list)):\n",
    "        df = dh.get_ticker_data(tickers_list[i], datetime.datetime(2015, 1, 1), datetime.datetime(2022, 9, 7))\n",
    "        df.head()\n",
    "        df=pd.DataFrame(df)\n",
    "        df.to_csv(r'C:\\Users\\HP\\Documents\\Courses\\Handong God University\\Master Thesis materials\\My_Thesis_Codes\\LSTM baseline model\\Augmented_Data\\\\'\n",
    "                  +tickers_list[i]+'_Dataset.csv',index=False)"
   ]
  },
  {
   "cell_type": "code",
   "execution_count": null,
   "id": "774d9dad-2095-4ca0-8697-363c625b4cc6",
   "metadata": {},
   "outputs": [],
   "source": []
  }
 ],
 "metadata": {
  "kernelspec": {
   "display_name": "Python 3 (ipykernel)",
   "language": "python",
   "name": "python3"
  },
  "language_info": {
   "codemirror_mode": {
    "name": "ipython",
    "version": 3
   },
   "file_extension": ".py",
   "mimetype": "text/x-python",
   "name": "python",
   "nbconvert_exporter": "python",
   "pygments_lexer": "ipython3",
   "version": "3.9.12"
  }
 },
 "nbformat": 4,
 "nbformat_minor": 5
}
