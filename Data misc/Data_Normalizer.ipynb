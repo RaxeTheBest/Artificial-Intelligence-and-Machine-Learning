{
 "cells": [
  {
   "cell_type": "code",
   "execution_count": 2,
   "id": "9a27cf19-aeb7-4acf-b778-9742ca111ee5",
   "metadata": {},
   "outputs": [
    {
     "name": "stdout",
     "output_type": "stream",
     "text": [
      "JPM training set\n",
      "[[0.05478352 0.07631586 0.1146398  0.14708125]\n",
      " [0.10262004 0.08704458 0.11386518 0.12418928]\n",
      " [0.05279865 0.05546568 0.09430666 0.11999239]\n",
      " ...\n",
      " [0.         0.         0.0449264  0.03929792]\n",
      " [0.00952751 0.00182194 0.04337718 0.07592513]\n",
      " [0.0142914  0.00101221 0.         0.        ]]\n",
      "\n",
      "\n",
      "SMSN.IL training set\n",
      "[[0.70846595 0.7121116  0.74539716 0.69708492]\n",
      " [0.8204965  0.81864299 0.8432404  0.78580482]\n",
      " [0.81158498 0.81357007 0.85165702 0.80101394]\n",
      " ...\n",
      " [0.00954806 0.00253646 0.18306155 0.00253485]\n",
      " [0.         0.         0.18095739 0.        ]\n",
      " [0.07829408 0.07102093 0.23882167 0.06147022]]\n"
     ]
    }
   ],
   "source": [
    "import matplotlib.pyplot as plt\n",
    "import pandas as pd\n",
    "import datetime as dt\n",
    "import os\n",
    "import numpy as np\n",
    "import tensorflow as tf \n",
    "from sklearn.preprocessing import MinMaxScaler\n",
    "\n",
    "df=pd.read_csv(r'C:\\Users\\HP\\Documents\\Courses\\Handong God University\\Master Thesis materials\\My_Thesis_Codes\\Testing\\JPM_TestDataset.csv')\n",
    "df2=pd.read_csv(r'C:\\Users\\HP\\Documents\\Courses\\Handong God University\\Master Thesis materials\\My_Thesis_Codes\\Testing\\SMSN.IL_TestDataset.csv')\n",
    "to_Be_Scaled1=df.iloc[:,1:5]\n",
    "scaler=MinMaxScaler(feature_range=(0,1))\n",
    "scaled_training_dataset1=scaler.fit_transform(to_Be_Scaled1)\n",
    "print(\"JPM training set\")\n",
    "print(scaled_training_dataset1)\n",
    "print (\"\\n\")\n",
    "to_Be_Scaled2=df2.iloc[:,1:5]\n",
    "scaler2=MinMaxScaler(feature_range=(0,1))\n",
    "scaled_training_dataset2=scaler2.fit_transform(to_Be_Scaled2)\n",
    "print(\"SMSN.IL training set\")\n",
    "print(scaled_training_dataset2)\n",
    "\n",
    "#\n",
    "\n",
    "#scaled_training_dataset1.head()\n",
    "#scaled_training_dataset2.head()\n",
    "#plt.figure(figsize = (16,10))\n",
    "#plt.plot(range(scaled_training_dataset1.shape[0]),(scaled_training_dataset1.shape[3]), label='JPM',color='orange')\n",
    "#plt.plot(range(scaled_training_dataset2.shape[0]),(scaled_training_dataset2['Close']), label='SMSN.IL',color='green')\n",
    "#plt.xticks(range(0,scaled_training_dataset1.shape[0],500),scaled_training_dataset1['Date'].loc[::500],rotation=45)\n",
    "#plt.xticks(range(0,scaled_training_dataset2.shape[0],500),scaled_training_dataset2['Date'].loc[::500],rotation=45)\n",
    "#plt.xlabel('Date',fontsize=18)\n",
    "#plt.ylabel('Mid Price',fontsize=18)\n",
    "\n",
    "#plt.legend()\n",
    "#plt.show()"
   ]
  },
  {
   "cell_type": "code",
   "execution_count": null,
   "id": "a743873b-b993-4604-a38f-302c81dea6df",
   "metadata": {},
   "outputs": [],
   "source": []
  }
 ],
 "metadata": {
  "kernelspec": {
   "display_name": "Python 3 (ipykernel)",
   "language": "python",
   "name": "python3"
  },
  "language_info": {
   "codemirror_mode": {
    "name": "ipython",
    "version": 3
   },
   "file_extension": ".py",
   "mimetype": "text/x-python",
   "name": "python",
   "nbconvert_exporter": "python",
   "pygments_lexer": "ipython3",
   "version": "3.9.7"
  }
 },
 "nbformat": 4,
 "nbformat_minor": 5
}
