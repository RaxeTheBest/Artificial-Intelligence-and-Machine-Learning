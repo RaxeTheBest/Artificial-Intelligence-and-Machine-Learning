{
 "cells": [
  {
   "cell_type": "code",
   "execution_count": 1,
   "id": "35197f08-004b-4c72-8b45-da391f047da0",
   "metadata": {},
   "outputs": [],
   "source": [
    "#Code retreived from https://medium.datadriveninvestor.com/sentiment-analysis-of-stocks-from-financial-news-using-python-82ebdcefb638\n",
    "#By Damian Boh.\n",
    "# Date : May 6, 2020\n",
    "\n",
    "\n",
    "\n",
    "# Import libraries\n",
    "from urllib.request import urlopen, Request\n",
    "from bs4 import BeautifulSoup\n",
    "import os\n",
    "import pandas as pd\n",
    "import matplotlib.pyplot as plt\n",
    "%matplotlib inline\n",
    "# NLTK VADER for sentiment analysis\n",
    "import nltk\n",
    "#nltk.downloader.download('vader_lexicon')\n",
    "from nltk.sentiment.vader import SentimentIntensityAnalyzer"
   ]
  },
  {
   "cell_type": "code",
   "execution_count": 2,
   "id": "1aa4d444-c662-4afd-a3c2-f913db1e1735",
   "metadata": {},
   "outputs": [],
   "source": [
    "finwiz_url = 'https://finviz.com/quote.ashx?t='\n",
    "news_tables = {}\n",
    "tickers = ['AAPL', 'BAC', 'BCS', 'JPM', 'TSLA','NVDA']\n",
    "for ticker in tickers:\n",
    "    url = finwiz_url + ticker\n",
    "    req = Request(url=url,headers={'User-Agent': 'Mozilla/5.0 (Windows NT 6.1; WOW64; rv:20.0) Gecko/20100101 Firefox/20.0'}) \n",
    "    response = urlopen(req)    \n",
    "    # Read the contents of the file into 'html'\n",
    "    html = BeautifulSoup(response)\n",
    "    # Find 'news-table' in the Soup and load it into 'news_table'\n",
    "    news_table = html.find(id='news-table')\n",
    "    # Add the table to our dictionary\n",
    "    news_tables[ticker] = news_table"
   ]
  },
  {
   "cell_type": "code",
   "execution_count": 3,
   "id": "45ec621b-eb7a-4686-b2fc-e869a07e77f2",
   "metadata": {},
   "outputs": [
    {
     "name": "stdout",
     "output_type": "stream",
     "text": [
      "Is Li Auto Stock A Buy After August Delivery Report?\n",
      "Sep-07-22 01:02PM  \n",
      "Struggling EV Startups Wont Get a Tesla Rebound\n",
      "11:08AM  \n",
      "Elon Musk $258 billion Dogecoin lawsuit expands\n",
      "11:06AM  \n",
      "Tesla, PG&E and 3 More Stocks to Track in Californias Power Crisis\n",
      "10:39AM  \n"
     ]
    }
   ],
   "source": [
    "# Read one single day of headlines for ‘AMZN’ \n",
    "# not mandatory. For explanation purposes\n",
    "amzn = news_tables['TSLA']\n",
    "# Get all the table rows tagged in HTML with <tr> into ‘amzn_tr’\n",
    "amzn_tr = amzn.findAll('tr')\n",
    "for i, table_row in enumerate(amzn_tr):\n",
    " # Read the text of the element ‘a’ into ‘link_text’\n",
    "    a_text = table_row.a.text\n",
    " # Read the text of the element ‘td’ into ‘data_text’\n",
    "    td_text = table_row.td.text\n",
    " # Print the contents of ‘link_text’ and ‘data_text’ \n",
    "    print(a_text)\n",
    "    print(td_text)\n",
    " # Exit after printing 4 rows of data\n",
    "    if i == 3:\n",
    "        break"
   ]
  },
  {
   "cell_type": "code",
   "execution_count": 4,
   "id": "6064ddfe-048c-4dba-8fcc-2df4e0ec4ae4",
   "metadata": {},
   "outputs": [
    {
     "data": {
      "text/plain": [
       "[['AAPL',\n",
       "  'Sep-07-22',\n",
       "  '01:38PM',\n",
       "  \"iPhone 14 release live: Apple Watch Ultra revealed at 'Far Out' event\"],\n",
       " ['AAPL',\n",
       "  'Sep-07-22',\n",
       "  '01:29PM',\n",
       "  'UPDATE 1-Apple unveils new Watches, iPhone upgrades expected'],\n",
       " ['AAPL',\n",
       "  'Sep-07-22',\n",
       "  '01:29PM',\n",
       "  'Apple event - live: iPhone 14, new AirPods and Watch to be unveiled on global stream'],\n",
       " ['AAPL',\n",
       "  'Sep-07-22',\n",
       "  '01:29PM',\n",
       "  'Apple debuts Apple Watch Series 8 starting at $399'],\n",
       " ['AAPL',\n",
       "  'Sep-07-22',\n",
       "  '01:28PM',\n",
       "  'Apples iPhone Event Is Underway. What to Watch.']]"
      ]
     },
     "execution_count": 4,
     "metadata": {},
     "output_type": "execute_result"
    }
   ],
   "source": [
    "parsed_news = []\n",
    "# Iterate through the news\n",
    "for file_name, news_table in news_tables.items():\n",
    "    # Iterate through all tr tags in 'news_table'\n",
    "    for x in news_table.findAll('tr'):\n",
    "        # read the text from each tr tag into text get text from a only\n",
    "        text = x.a.get_text() \n",
    "        # splite text in the td tag into a list \n",
    "        date_scrape = x.td.text.split()\n",
    "        # if the length of 'date_scrape' is 1, load 'time' as the only element\n",
    "        if len(date_scrape) == 1:\n",
    "            time = date_scrape[0]\n",
    "        else:# else load 'date' as the 1st element and 'time' as the second  \n",
    "            date = date_scrape[0]\n",
    "            time = date_scrape[1]\n",
    "        # Extract the ticker from the file name, get the string up to the 1st '_'  \n",
    "        ticker = file_name.split('_')[0]\n",
    "        \n",
    "        # Append ticker, date, time and headline as a list to the 'parsed_news' list\n",
    "        parsed_news.append([ticker, date, time, text])\n",
    "        \n",
    "parsed_news[:5] # print first 5 rows of news"
   ]
  },
  {
   "cell_type": "markdown",
   "id": "6c07a4c0-6d87-4be3-acbd-6fed18401912",
   "metadata": {
    "id": "7pYXRMJm8w4V",
    "tags": []
   },
   "source": [
    "# **Explaining the columns of our dataset**\n",
    "The first 5 rows of the DataFrame from the code above should look something like this. The ‘compound’ column gives the sentiment scores. For positive scores, the higher the value, the more positive the sentiment is. Similarly for negative scores, the more negative the value, the more negative the sentiment is. The scores range from -1 to 1."
   ]
  },
  {
   "cell_type": "code",
   "execution_count": 5,
   "id": "390f03c7-9804-4a95-b5ab-211fb3c5e7af",
   "metadata": {},
   "outputs": [
    {
     "name": "stdout",
     "output_type": "stream",
     "text": [
      "    ticker        date     time  \\\n",
      "0     AAPL  2022-09-07  01:38PM   \n",
      "1     AAPL  2022-09-07  01:29PM   \n",
      "2     AAPL  2022-09-07  01:29PM   \n",
      "3     AAPL  2022-09-07  01:29PM   \n",
      "4     AAPL  2022-09-07  01:28PM   \n",
      "..     ...         ...      ...   \n",
      "595   NVDA  2022-09-01  10:43AM   \n",
      "596   NVDA  2022-09-01  10:15AM   \n",
      "597   NVDA  2022-09-01  10:00AM   \n",
      "598   NVDA  2022-09-01  09:48AM   \n",
      "599   NVDA  2022-09-01  09:33AM   \n",
      "\n",
      "                                              headline    neg    neu    pos  \\\n",
      "0    iPhone 14 release live: Apple Watch Ultra reve...  0.000  1.000  0.000   \n",
      "1    UPDATE 1-Apple unveils new Watches, iPhone upg...  0.000  1.000  0.000   \n",
      "2    Apple event - live: iPhone 14, new AirPods and...  0.000  1.000  0.000   \n",
      "3    Apple debuts Apple Watch Series 8 starting at ...  0.000  1.000  0.000   \n",
      "4      Apples iPhone Event Is Underway. What to Watch.  0.000  1.000  0.000   \n",
      "..                                                 ...    ...    ...    ...   \n",
      "595  Nvidia and AMD Stock Tumble as U.S. Limits Exp...  0.000  1.000  0.000   \n",
      "596  US blocks sale of graphics chips to China over...  0.311  0.530  0.159   \n",
      "597          This Is Why AMD and Nvidia Are Down Today  0.000  1.000  0.000   \n",
      "598    Dumping a Chipmaker While Adding to 3 Positions  0.315  0.685  0.000   \n",
      "599  Almost No Stock Spared as Semiconductor Rout S...  0.214  0.786  0.000   \n",
      "\n",
      "     compound  \n",
      "0      0.0000  \n",
      "1      0.0000  \n",
      "2      0.0000  \n",
      "3      0.0000  \n",
      "4      0.0000  \n",
      "..        ...  \n",
      "595    0.0000  \n",
      "596   -0.3182  \n",
      "597    0.0000  \n",
      "598   -0.3182  \n",
      "599   -0.2280  \n",
      "\n",
      "[600 rows x 8 columns]\n"
     ]
    }
   ],
   "source": [
    "# Instantiate the sentiment intensity analyzer\n",
    "vader = SentimentIntensityAnalyzer()\n",
    "\n",
    "# Set column names\n",
    "columns = ['ticker', 'date', 'time', 'headline']\n",
    "\n",
    "# Convert the parsed_news list into a DataFrame called 'parsed_and_scored_news'\n",
    "parsed_and_scored_news = pd.DataFrame(parsed_news, columns=columns)\n",
    "\n",
    "# Iterate through the headlines and get the polarity scores using vader\n",
    "scores = parsed_and_scored_news['headline'].apply(vader.polarity_scores).tolist()\n",
    "\n",
    "# Convert the 'scores' list of dicts into a DataFrame\n",
    "scores_df = pd.DataFrame(scores)\n",
    "\n",
    "# Join the DataFrames of the news and the list of dicts\n",
    "parsed_and_scored_news = parsed_and_scored_news.join(scores_df, rsuffix='_right')\n",
    "\n",
    "# Convert the date column from string to datetime\n",
    "parsed_and_scored_news['date'] = pd.to_datetime(parsed_and_scored_news.date).dt.date\n",
    "\n",
    "#Store the sentiment scores in a file\n",
    "parsed_and_scored_news.to_csv('SA_dataset.csv', index=False)\n",
    "\n",
    "#parsed_and_scored_news.head()\n",
    "print(parsed_and_scored_news)\n"
   ]
  },
  {
   "cell_type": "markdown",
   "id": "c509b7f1-a7c1-4c33-9d91-02b750b6a39a",
   "metadata": {
    "id": "7pYXRMJm8w4V",
    "tags": []
   },
   "source": [
    "# **Plot a Bar Chart of the Sentiment Score for Each Day**\n",
    "\n",
    "The following code takes the average of the sentiment scores for all news headlines collected during each date and plots it on a bar chart. You can average the scores for each week too, to obtain the overall sentiment for a week."
   ]
  },
  {
   "cell_type": "code",
   "execution_count": 7,
   "id": "b1a3913f-bd9f-4228-a659-a46f80f5c46e",
   "metadata": {},
   "outputs": [
    {
     "data": {
      "image/png": "[encoded data removed]",
      "text/plain": [
       "<Figure size 1296x648 with 1 Axes>"
      ]
     },
     "metadata": {
      "needs_background": "light"
     },
     "output_type": "display_data"
    }
   ],
   "source": [
    "plt.rcParams['figure.figsize'] = [18, 9]\n",
    "\n",
    "# Group by date and ticker columns from scored_news and calculate the mean\n",
    "mean_scores = parsed_and_scored_news.groupby(['ticker','date']).mean()\n",
    "\n",
    "# Unstack the column ticker\n",
    "mean_scores = mean_scores.unstack()\n",
    "\n",
    "# Get the cross-section of compound in the 'columns' axis\n",
    "mean_scores = mean_scores.xs('compound', axis=\"columns\").transpose()\n",
    "\n",
    "# Plot a bar chart with pandas\n",
    "mean_scores.plot(kind = 'bar')\n",
    "plt.grid()\n",
    "\n",
    "mean_scores.to_csv('SA_dataset2.csv', index=True)"
   ]
  },
  {
   "cell_type": "code",
   "execution_count": null,
   "id": "aff6e8f1-aefb-4f8e-9541-d002ac3a9ebf",
   "metadata": {},
   "outputs": [],
   "source": []
  }
 ],
 "metadata": {
  "kernelspec": {
   "display_name": "Python 3 (ipykernel)",
   "language": "python",
   "name": "python3"
  },
  "language_info": {
   "codemirror_mode": {
    "name": "ipython",
    "version": 3
   },
   "file_extension": ".py",
   "mimetype": "text/x-python",
   "name": "python",
   "nbconvert_exporter": "python",
   "pygments_lexer": "ipython3",
   "version": "3.9.12"
  }
 },
 "nbformat": 4,
 "nbformat_minor": 5
}
